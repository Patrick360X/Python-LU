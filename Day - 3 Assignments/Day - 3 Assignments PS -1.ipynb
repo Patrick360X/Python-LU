{
 "cells": [
  {
   "cell_type": "code",
   "execution_count": 7,
   "metadata": {},
   "outputs": [
    {
     "name": "stdout",
     "output_type": "stream",
     "text": [
      "Enter a Altitude:- 6500\n",
      "6500\n",
      "Turn Around and try later\n"
     ]
    }
   ],
   "source": [
    "altitude = input(\"Enter a Altitude:- \")\n",
    "print(altitude)\n",
    "\n",
    "altitude = int(altitude)\n",
    "\n",
    "if altitude <= 1000:\n",
    "    print(\"Land the plane\")\n",
    "elif altitude > 1000 and altitude < 5000:\n",
    "    print(\"Bring Down to 1000 feet \")\n",
    "else:\n",
    "    print(\"Turn Around and try later\")"
   ]
  }
 ],
 "metadata": {
  "kernelspec": {
   "display_name": "Python 3",
   "language": "python",
   "name": "python3"
  },
  "language_info": {
   "codemirror_mode": {
    "name": "ipython",
    "version": 3
   },
   "file_extension": ".py",
   "mimetype": "text/x-python",
   "name": "python",
   "nbconvert_exporter": "python",
   "pygments_lexer": "ipython3",
   "version": "3.7.1"
  }
 },
 "nbformat": 4,
 "nbformat_minor": 2
}
