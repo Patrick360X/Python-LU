{
 "cells": [
  {
   "cell_type": "markdown",
   "metadata": {},
   "source": [
    "# Question 1"
   ]
  },
  {
   "cell_type": "code",
   "execution_count": 5,
   "metadata": {},
   "outputs": [
    {
     "name": "stdout",
     "output_type": "stream",
     "text": [
      "Requirement already satisfied: pylint in c:\\users\\pns86\\anaconda3\\lib\\site-packages (2.2.2)\n",
      "Requirement already satisfied: astroid>=2.0.0 in c:\\users\\pns86\\anaconda3\\lib\\site-packages (from pylint) (2.1.0)\n",
      "Requirement already satisfied: isort>=4.2.5 in c:\\users\\pns86\\anaconda3\\lib\\site-packages (from pylint) (4.3.4)\n",
      "Requirement already satisfied: mccabe in c:\\users\\pns86\\anaconda3\\lib\\site-packages (from pylint) (0.6.1)\n",
      "Requirement already satisfied: colorama in c:\\users\\pns86\\anaconda3\\lib\\site-packages (from pylint) (0.4.1)\n",
      "Requirement already satisfied: lazy-object-proxy in c:\\users\\pns86\\anaconda3\\lib\\site-packages (from astroid>=2.0.0->pylint) (1.3.1)\n",
      "Requirement already satisfied: six in c:\\users\\pns86\\anaconda3\\lib\\site-packages (from astroid>=2.0.0->pylint) (1.12.0)\n",
      "Requirement already satisfied: wrapt in c:\\users\\pns86\\anaconda3\\lib\\site-packages (from astroid>=2.0.0->pylint) (1.10.11)\n"
     ]
    }
   ],
   "source": [
    "! pip install pylint"
   ]
  },
  {
   "cell_type": "code",
   "execution_count": 6,
   "metadata": {},
   "outputs": [
    {
     "name": "stdout",
     "output_type": "stream",
     "text": [
      "Overwriting prime_number.py\n"
     ]
    }
   ],
   "source": [
    "%%writefile prime_number.py\n",
    "'''\n",
    "Program to find is a number is prime\n",
    "'''\n",
    "def prime(num):\n",
    "    '''\n",
    "    Checks if a n is prime.\n",
    "    '''\n",
    "    for i in range(2, num):\n",
    "        if num%i == 0:\n",
    "            break\n",
    "    else:\n",
    "        return True\n",
    "    return False"
   ]
  },
  {
   "cell_type": "code",
   "execution_count": 7,
   "metadata": {},
   "outputs": [
    {
     "name": "stdout",
     "output_type": "stream",
     "text": [
      "\n",
      "-------------------------------------------------------------------\n",
      "\n",
      "Your code has been rated at 10.00/10 (previous run: 8.33/10, +1.67)\n",
      "\n",
      "\n",
      "\n"
     ]
    }
   ],
   "source": [
    "! pylint prime_number.py"
   ]
  },
  {
   "cell_type": "code",
   "execution_count": 8,
   "metadata": {},
   "outputs": [
    {
     "name": "stdout",
     "output_type": "stream",
     "text": [
      "Writing prime_number_test.py\n"
     ]
    }
   ],
   "source": [
    "%%writefile prime_number_test.py\n",
    "\n",
    "import unittest\n",
    "import prime_number\n",
    "\n",
    "class testPrimeNumber(unittest.TestCase):\n",
    "    def testPrime(self):\n",
    "        res = prime_number.prime(3)\n",
    "        self.assertEqual(res,True)\n",
    "    \n",
    "    def testNotPrime(self):\n",
    "        res = prime_number.prime(9)\n",
    "        self.assertEqual(res,False)\n",
    "\n",
    "if __name__ == \"__main__\":\n",
    "    unittest.main()"
   ]
  },
  {
   "cell_type": "code",
   "execution_count": 9,
   "metadata": {},
   "outputs": [
    {
     "name": "stderr",
     "output_type": "stream",
     "text": [
      "testNotPrime (__main__.testPrimeNumber) ... ok\n",
      "testPrime (__main__.testPrimeNumber) ... ok\n",
      "\n",
      "----------------------------------------------------------------------\n",
      "Ran 2 tests in 0.000s\n",
      "\n",
      "OK\n"
     ]
    }
   ],
   "source": [
    "! python prime_number_test.py -v"
   ]
  },
  {
   "cell_type": "markdown",
   "metadata": {},
   "source": [
    "# Question 2"
   ]
  },
  {
   "cell_type": "code",
   "execution_count": 10,
   "metadata": {},
   "outputs": [
    {
     "name": "stdout",
     "output_type": "stream",
     "text": [
      "[1, 2, 3, 4, 5, 6, 7, 8, 9, 153, 370, 371, 407]\n"
     ]
    }
   ],
   "source": [
    "def isArmstrong(n):\n",
    "    numSum = 0\n",
    "    temp = n\n",
    "    p = len(str(abs(n)))\n",
    "    while n>0:\n",
    "        r = n%10\n",
    "        numSum += (r**p)\n",
    "        n = n//10\n",
    "    if numSum == temp :\n",
    "        return True\n",
    "    else:\n",
    "        return False\n",
    "\n",
    "def generateArmstrong(listRange):\n",
    "    for i in listRange:\n",
    "        if isArmstrong(i):\n",
    "            yield i;\n",
    "        i = i+1\n",
    "\n",
    "print(list(generateArmstrong(range(1,1001))))"
   ]
  },
  {
   "cell_type": "code",
   "execution_count": null,
   "metadata": {},
   "outputs": [],
   "source": []
  }
 ],
 "metadata": {
  "kernelspec": {
   "display_name": "Python 3",
   "language": "python",
   "name": "python3"
  },
  "language_info": {
   "codemirror_mode": {
    "name": "ipython",
    "version": 3
   },
   "file_extension": ".py",
   "mimetype": "text/x-python",
   "name": "python",
   "nbconvert_exporter": "python",
   "pygments_lexer": "ipython3",
   "version": "3.7.1"
  }
 },
 "nbformat": 4,
 "nbformat_minor": 2
}
