{
 "cells": [
  {
   "cell_type": "markdown",
   "metadata": {},
   "source": [
    "# Question - 1"
   ]
  },
  {
   "cell_type": "code",
   "execution_count": 6,
   "metadata": {},
   "outputs": [],
   "source": [
    "def inputfunction(functionality_function):\n",
    "    def wrap_function():\n",
    "        a=int(input('Enter the First number-'))\n",
    "        b=int(input('Enter the Second number-'))\n",
    "        functionality_function(a,b)\n",
    "    return wrap_function    "
   ]
  },
  {
   "cell_type": "code",
   "execution_count": 7,
   "metadata": {},
   "outputs": [],
   "source": [
    "@inputfunction\n",
    "def fibonacci(a,b):\n",
    "    count=0\n",
    "    nterms=int(input('Enter the range of fibonacci series-'))\n",
    "    if nterms<=0:\n",
    "        print('Enter the positive number')\n",
    "    elif nterms==1:\n",
    "        print('Fibonacci series is')\n",
    "        print(a)\n",
    "    else:\n",
    "        print('Fibonacci series is')\n",
    "        while count<=nterms:\n",
    "            print(a,end=' ')\n",
    "            f=a+b\n",
    "            a=b\n",
    "            b=f\n",
    "            count+=1\n"
   ]
  },
  {
   "cell_type": "code",
   "execution_count": 8,
   "metadata": {},
   "outputs": [
    {
     "name": "stdout",
     "output_type": "stream",
     "text": [
      "Enter the First number-1\n",
      "Enter the Second number-2\n",
      "Enter the range of fibonacci series-20\n",
      "Fibonacci series is\n",
      "1 2 3 5 8 13 21 34 55 89 144 233 377 610 987 1597 2584 4181 6765 10946 17711 "
     ]
    }
   ],
   "source": [
    "fibonacci()"
   ]
  },
  {
   "cell_type": "code",
   "execution_count": 9,
   "metadata": {},
   "outputs": [],
   "source": [
    "@inputfunction\n",
    "def addition(a,b):\n",
    "    print('Addition is-', a+b)"
   ]
  },
  {
   "cell_type": "code",
   "execution_count": 10,
   "metadata": {},
   "outputs": [
    {
     "name": "stdout",
     "output_type": "stream",
     "text": [
      "Enter the First number-10\n",
      "Enter the Second number-20\n",
      "Addition is- 30\n"
     ]
    }
   ],
   "source": [
    "addition()"
   ]
  },
  {
   "cell_type": "markdown",
   "metadata": {},
   "source": [
    "# Question - 2"
   ]
  },
  {
   "cell_type": "code",
   "execution_count": 11,
   "metadata": {},
   "outputs": [
    {
     "name": "stdout",
     "output_type": "stream",
     "text": [
      "My name is Pradyumna\n"
     ]
    }
   ],
   "source": [
    "fhand=open('test.txt','w')\n",
    "fhand.write(input())\n",
    "fhand.close()"
   ]
  },
  {
   "cell_type": "code",
   "execution_count": 12,
   "metadata": {},
   "outputs": [
    {
     "name": "stdout",
     "output_type": "stream",
     "text": [
      "My name is Pradyumna\n"
     ]
    }
   ],
   "source": [
    "fread=open('test.txt','r')\n",
    "readfile=fread.read()\n",
    "print(readfile)\n",
    "fread.close()"
   ]
  },
  {
   "cell_type": "code",
   "execution_count": 13,
   "metadata": {},
   "outputs": [
    {
     "name": "stdout",
     "output_type": "stream",
     "text": [
      "I will in Pune\n",
      "File Cannot be Written Since it is Open in Read Mode\n"
     ]
    }
   ],
   "source": [
    "try:\n",
    "    writefile=fread.write(input())\n",
    "    print(writefile)\n",
    "except:\n",
    "    print('File Cannot be Written Since it is Open in Read Mode')"
   ]
  },
  {
   "cell_type": "code",
   "execution_count": null,
   "metadata": {},
   "outputs": [],
   "source": []
  }
 ],
 "metadata": {
  "kernelspec": {
   "display_name": "Python 3",
   "language": "python",
   "name": "python3"
  },
  "language_info": {
   "codemirror_mode": {
    "name": "ipython",
    "version": 3
   },
   "file_extension": ".py",
   "mimetype": "text/x-python",
   "name": "python",
   "nbconvert_exporter": "python",
   "pygments_lexer": "ipython3",
   "version": "3.7.1"
  }
 },
 "nbformat": 4,
 "nbformat_minor": 2
}
