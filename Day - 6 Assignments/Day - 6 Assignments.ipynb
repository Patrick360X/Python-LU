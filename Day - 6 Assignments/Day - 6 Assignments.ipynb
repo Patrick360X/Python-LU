{
 "cells": [
  {
   "cell_type": "markdown",
   "metadata": {},
   "source": [
    "# Question - 1"
   ]
  },
  {
   "cell_type": "code",
   "execution_count": 1,
   "metadata": {},
   "outputs": [],
   "source": [
    "class Bank_Account:\n",
    "    def __init__(self, ownerName, balance = 0):\n",
    "        self.ownerName = ownerName\n",
    "        self.balance = balance\n",
    "    \n",
    "    def deposite(self, amount):\n",
    "        self.balance  += amount\n",
    "        print(\"Amount Deposited Successfully!\")\n",
    "    \n",
    "    def withdraw(self, amount):\n",
    "        if self.balance >= amount:\n",
    "            self.balance -= amount\n",
    "            print(amount, \" Withdrawn!\")\n",
    "        else:\n",
    "            print(\"Insufficient Funds!!\")"
   ]
  },
  {
   "cell_type": "code",
   "execution_count": 2,
   "metadata": {},
   "outputs": [],
   "source": [
    "acc = Bank_Account(\"Pradyumna Shirude\")"
   ]
  },
  {
   "cell_type": "code",
   "execution_count": 3,
   "metadata": {},
   "outputs": [
    {
     "name": "stdout",
     "output_type": "stream",
     "text": [
      "Welcome Pradyumna Shirude \n",
      "\n",
      "\n",
      "1.View Balance\n",
      "2.Deposite\n",
      "3.Withdraw\n",
      "4.Exit\n",
      "Enter Option number:1\n",
      "\n",
      "Balance: 0 \n",
      "\n",
      "1.View Balance\n",
      "2.Deposite\n",
      "3.Withdraw\n",
      "4.Exit\n",
      "Enter Option number:2\n",
      "\n",
      "Deposite:\n",
      "Enter Amount to Deposite:50000\n",
      "Amount Deposited Successfully!\n",
      "\n",
      "1.View Balance\n",
      "2.Deposite\n",
      "3.Withdraw\n",
      "4.Exit\n",
      "Enter Option number:3\n",
      "\n",
      "Withdrawal:\n",
      "Enter Amount to Withdraw:60000\n",
      "Insufficient Funds!!\n",
      "\n",
      "1.View Balance\n",
      "2.Deposite\n",
      "3.Withdraw\n",
      "4.Exit\n",
      "Enter Option number:2\n",
      "\n",
      "Deposite:\n",
      "Enter Amount to Deposite:40000\n",
      "Amount Deposited Successfully!\n",
      "\n",
      "1.View Balance\n",
      "2.Deposite\n",
      "3.Withdraw\n",
      "4.Exit\n",
      "Enter Option number:1\n",
      "\n",
      "Balance: 90000.0 \n",
      "\n",
      "1.View Balance\n",
      "2.Deposite\n",
      "3.Withdraw\n",
      "4.Exit\n",
      "Enter Option number:3\n",
      "\n",
      "Withdrawal:\n",
      "Enter Amount to Withdraw:55000\n",
      "55000.0  Withdrawn!\n",
      "\n",
      "1.View Balance\n",
      "2.Deposite\n",
      "3.Withdraw\n",
      "4.Exit\n",
      "Enter Option number:1\n",
      "\n",
      "Balance: 35000.0 \n",
      "\n",
      "1.View Balance\n",
      "2.Deposite\n",
      "3.Withdraw\n",
      "4.Exit\n",
      "Enter Option number:4\n",
      "Thank you for using our service!\n"
     ]
    }
   ],
   "source": [
    "opt = 0\n",
    "print(\"Welcome\", acc.ownerName, \"\\n\")\n",
    "while(opt != 4):\n",
    "    print(\"\\n1.View Balance\\n2.Deposite\\n3.Withdraw\\n4.Exit\")\n",
    "    opt = int(input(\"Enter Option number:\"))\n",
    "    if opt == 1:\n",
    "        print(\"\\nBalance:\",acc.balance,\"\")\n",
    "    elif opt == 2:\n",
    "        print(\"\\nDeposite:\")\n",
    "        amount = float(input(\"Enter Amount to Deposite:\"))\n",
    "        acc.deposite(amount)\n",
    "    elif opt == 3:\n",
    "        print(\"\\nWithdrawal:\")\n",
    "        amount = float(input(\"Enter Amount to Withdraw:\"))\n",
    "        acc.withdraw(amount)\n",
    "    elif opt == 4:\n",
    "        print(\"Thank you for using our service!\")"
   ]
  },
  {
   "cell_type": "markdown",
   "metadata": {},
   "source": [
    "# Question - 2"
   ]
  },
  {
   "cell_type": "code",
   "execution_count": 4,
   "metadata": {},
   "outputs": [],
   "source": [
    "import math\n",
    "class cone():\n",
    "    def __init__(self,radius,height):\n",
    "        self.radius=radius\n",
    "        self.height=height\n",
    "        \n",
    "    def volume(self):\n",
    "        vol=float((math.pi*(self.radius**2)*self.height)/3)\n",
    "        print(vol)\n",
    "        \n",
    "    def surfaceArea(self):\n",
    "        side=math.pi*self.radius*(math.sqrt(self.radius**2+self.height**2))\n",
    "        area=float(math.pi*(self.radius**2)+side)\n",
    "        print(area)\n",
    "        "
   ]
  },
  {
   "cell_type": "code",
   "execution_count": 5,
   "metadata": {},
   "outputs": [],
   "source": [
    "v = cone(5,7)"
   ]
  },
  {
   "cell_type": "code",
   "execution_count": 6,
   "metadata": {},
   "outputs": [
    {
     "name": "stdout",
     "output_type": "stream",
     "text": [
      "183.2595714594046\n"
     ]
    }
   ],
   "source": [
    "v.volume()"
   ]
  },
  {
   "cell_type": "code",
   "execution_count": 7,
   "metadata": {},
   "outputs": [
    {
     "name": "stdout",
     "output_type": "stream",
     "text": [
      "213.6648256533997\n"
     ]
    }
   ],
   "source": [
    "v.surfaceArea()"
   ]
  },
  {
   "cell_type": "code",
   "execution_count": null,
   "metadata": {},
   "outputs": [],
   "source": []
  }
 ],
 "metadata": {
  "kernelspec": {
   "display_name": "Python 3",
   "language": "python",
   "name": "python3"
  },
  "language_info": {
   "codemirror_mode": {
    "name": "ipython",
    "version": 3
   },
   "file_extension": ".py",
   "mimetype": "text/x-python",
   "name": "python",
   "nbconvert_exporter": "python",
   "pygments_lexer": "ipython3",
   "version": "3.7.1"
  }
 },
 "nbformat": 4,
 "nbformat_minor": 2
}
